{
 "cells": [
  {
   "cell_type": "code",
   "execution_count": 2,
   "id": "fa13adb2",
   "metadata": {},
   "outputs": [
    {
     "name": "stdout",
     "output_type": "stream",
     "text": [
      "0                  NaT\n",
      "1      0 days 00:44:00\n",
      "2                  NaT\n",
      "3                  NaT\n",
      "4                  NaT\n",
      "             ...      \n",
      "2367               NaT\n",
      "2368               NaT\n",
      "2369               NaT\n",
      "2370               NaT\n",
      "2371               NaT\n",
      "Name: time_to_purchase, Length: 2372, dtype: timedelta64[ns]\n",
      "0 days 00:43:53.360160965\n"
     ]
    }
   ],
   "source": [
    "#import codecademylib\n",
    "import pandas as pd\n",
    "\n",
    "visits = pd.read_csv('visits.csv',\n",
    "                     parse_dates=[1])\n",
    "cart = pd.read_csv('cart.csv',\n",
    "                   parse_dates=[1])\n",
    "checkout = pd.read_csv('checkout.csv',\n",
    "                       parse_dates=[1])\n",
    "purchase = pd.read_csv('purchase.csv',\n",
    "                       parse_dates=[1])\n",
    "\n",
    "#print(visits.head())   \n",
    "#print(cart.head()) \n",
    "#print(checkout.head()) \n",
    "#print(purchase.head())     \n",
    "\n",
    "visits_cart = pd.merge(visits, cart, how='left')\n",
    "#print(visits_cart)\n",
    "\n",
    "len_visits_cart = len(visits_cart)\n",
    "#print(len_visits_cart)\n",
    "\n",
    "null_cart_time = len(visits_cart[visits_cart.cart_time.isnull()])\n",
    "#print(null_cart_time)\n",
    "\n",
    "#print(float(null_cart_time)/len_visits_cart)\n",
    "\n",
    "cart_checkout = pd.merge(cart, checkout, how = 'left')\n",
    "len_cart_checkout = len(cart_checkout)\n",
    "\n",
    "len_null_checkout = len(cart_checkout[cart_checkout.checkout_time.isnull()])\n",
    "\n",
    "#print(float(len_null_checkout)/len_cart_checkout)\n",
    "\n",
    "all_data = visits\\\n",
    "  .merge(cart, how = 'left')\\\n",
    "  .merge(checkout, how = 'left')\\\n",
    "  .merge(purchase, how = 'left')\n",
    "\n",
    "all_data['time_to_purchase'] = \\\n",
    "    all_data.purchase_time - \\\n",
    "    all_data.visit_time\n",
    "\n",
    "#print(all_data.head())\n",
    "print(all_data.time_to_purchase)\n",
    "print(all_data.time_to_purchase.mean())\n",
    "\n",
    "\n",
    "\n",
    "\n"
   ]
  },
  {
   "cell_type": "code",
   "execution_count": null,
   "id": "2db95c80",
   "metadata": {},
   "outputs": [],
   "source": []
  }
 ],
 "metadata": {
  "kernelspec": {
   "display_name": "Python 3",
   "language": "python",
   "name": "python3"
  },
  "language_info": {
   "codemirror_mode": {
    "name": "ipython",
    "version": 3
   },
   "file_extension": ".py",
   "mimetype": "text/x-python",
   "name": "python",
   "nbconvert_exporter": "python",
   "pygments_lexer": "ipython3",
   "version": "3.8.8"
  }
 },
 "nbformat": 4,
 "nbformat_minor": 5
}
